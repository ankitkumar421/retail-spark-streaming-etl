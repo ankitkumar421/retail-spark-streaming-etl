{
 "cells": [
  {
   "cell_type": "code",
   "execution_count": null,
   "id": "ae97a58d-4ced-4285-82e6-fa470d7aabce",
   "metadata": {},
   "outputs": [],
   "source": [
    "from pyspark.sql import SparkSession\n",
    "from pyspark.sql.functions import expr, col, sum\n",
    "\n",
    "spark = SparkSession.builder.appName(\"Retail_Sales_Streaming_ETL\").getOrCreate()\n",
    "print(\"Spark session started!\")"
   ]
  }
 ],
 "metadata": {
  "kernelspec": {
   "display_name": "Python 3 (ipykernel)",
   "language": "python",
   "name": "python3"
  },
  "language_info": {
   "codemirror_mode": {
    "name": "ipython",
    "version": 3
   },
   "file_extension": ".py",
   "mimetype": "text/x-python",
   "name": "python",
   "nbconvert_exporter": "python",
   "pygments_lexer": "ipython3",
   "version": "3.11.6"
  }
 },
 "nbformat": 4,
 "nbformat_minor": 5
}
