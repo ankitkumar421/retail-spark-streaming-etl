{
 "cells": [
  {
   "cell_type": "code",
   "execution_count": 2,
   "id": "ae97a58d-4ced-4285-82e6-fa470d7aabce",
   "metadata": {},
   "outputs": [
    {
     "name": "stdout",
     "output_type": "stream",
     "text": [
      "Spark session started!\n"
     ]
    }
   ],
   "source": [
    "from pyspark.sql import SparkSession\n",
    "from pyspark.sql.functions import expr, col, sum\n",
    "\n",
    "spark = SparkSession.builder.appName(\"Retail_Sales_Streaming_ETL\").getOrCreate()\n",
    "print(\"Spark session started!\")"
   ]
  },
  {
   "cell_type": "code",
   "execution_count": 4,
   "id": "c6b74b6e-96f4-408a-bc9d-cc377b5be6de",
   "metadata": {},
   "outputs": [
    {
     "name": "stdout",
     "output_type": "stream",
     "text": [
      "Schema loaded!\n"
     ]
    }
   ],
   "source": [
    "# Use any sample sales CSV with proper headers and valid data in your input folder\n",
    "sample_file = '/home/jovyan/work/data/streaming_input/sales_1970-01-01.csv'  # update filename as needed\n",
    "schema = spark.read.csv(sample_file, header=True, inferSchema=True).schema\n",
    "print(\"Schema loaded!\")"
   ]
  },
  {
   "cell_type": "code",
   "execution_count": 9,
   "id": "5f6558ce-e1c0-4c58-a376-679d110838d7",
   "metadata": {},
   "outputs": [
    {
     "name": "stdout",
     "output_type": "stream",
     "text": [
      "Streaming DataFrame ready!\n"
     ]
    }
   ],
   "source": [
    "stream_df = spark.readStream.option(\"header\", True).schema(schema).csv('/home/jovyan/work/data/streaming_input/')\n",
    "stream_df = stream_df.withColumn(\"SALE_DATETIME\", col(\"YEAR\").cast(\"timestamp\"))\n",
    "print(\"Streaming DataFrame ready!\")"
   ]
  },
  {
   "cell_type": "code",
   "execution_count": 10,
   "id": "99e548ef-f312-43c5-b673-b2103b70583d",
   "metadata": {},
   "outputs": [
    {
     "name": "stdout",
     "output_type": "stream",
     "text": [
      "Aggregation pipeline set up!\n"
     ]
    }
   ],
   "source": [
    "agg_df = stream_df.withWatermark(\"SALE_DATETIME\", \"10 days\") \\\n",
    "    .groupBy(\"SALE_DATETIME\", \"ITEM TYPE\") \\\n",
    "    .agg(\n",
    "        sum(col(\"RETAIL SALES\")).alias(\"total_retail_sales\"),\n",
    "        sum(col(\"WAREHOUSE SALES\")).alias(\"total_warehouse_sales\"),\n",
    "        sum(col(\"RETAIL TRANSFERS\")).alias(\"total_retail_transfers\")\n",
    "    )\n",
    "print(\"Aggregation pipeline set up!\")"
   ]
  },
  {
   "cell_type": "code",
   "execution_count": 11,
   "id": "0041c13e-2f79-4775-aa81-4b23c2bafc99",
   "metadata": {},
   "outputs": [
    {
     "name": "stdout",
     "output_type": "stream",
     "text": [
      "Streaming to console; drop valid CSV files in the streaming_input folder and watch output below.\n"
     ]
    },
    {
     "data": {
      "text/plain": [
       "False"
      ]
     },
     "execution_count": 11,
     "metadata": {},
     "output_type": "execute_result"
    }
   ],
   "source": [
    "query = agg_df.writeStream.outputMode(\"append\") \\\n",
    "    .format(\"console\") \\\n",
    "    .option(\"truncate\", False) \\\n",
    "    .start()\n",
    "\n",
    "print(\"Streaming to console; drop valid CSV files in the streaming_input folder and watch output below.\")\n",
    "query.awaitTermination(10)"
   ]
  }
 ],
 "metadata": {
  "kernelspec": {
   "display_name": "Python 3 (ipykernel)",
   "language": "python",
   "name": "python3"
  },
  "language_info": {
   "codemirror_mode": {
    "name": "ipython",
    "version": 3
   },
   "file_extension": ".py",
   "mimetype": "text/x-python",
   "name": "python",
   "nbconvert_exporter": "python",
   "pygments_lexer": "ipython3",
   "version": "3.11.6"
  }
 },
 "nbformat": 4,
 "nbformat_minor": 5
}
